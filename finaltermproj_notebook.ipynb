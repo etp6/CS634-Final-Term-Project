{
 "cells": [
  {
   "cell_type": "code",
   "execution_count": null,
   "id": "ce8ed730-dbc3-479f-88a1-1e01971ab6f3",
   "metadata": {},
   "outputs": [],
   "source": [
    "import pandas as pd\n",
    "import numpy as np\n",
    "from sklearn.model_selection import KFold\n",
    "from sklearn.metrics import confusion_matrix\n",
    "from sklearn.preprocessing import StandardScaler\n",
    "from sklearn.ensemble import RandomForestClassifier\n",
    "from sklearn.neighbors import KNeighborsClassifier\n",
    "from tensorflow.keras.models import Sequential\n",
    "from tensorflow.keras.layers import LSTM, Dense, Dropout, Input\n",
    "from tensorflow.keras.optimizers import Adam"
   ]
  },
  {
   "cell_type": "code",
   "execution_count": null,
   "id": "fb99e47f-2b4b-4d0a-95ba-a0763481d2cf",
   "metadata": {},
   "outputs": [],
   "source": [
    "kf = KFold(n_splits=10, shuffle=True, random_state=42)\n",
    "data = pd.read_csv(\"breast_cancer_data.csv\")\n",
    "X_df = data.drop(columns=[\"Diagnosis\"])\n",
    "y_df = data[\"Diagnosis\"]\n",
    "X_np = X_df.values\n",
    "y_np = y_df.values"
   ]
  },
  {
   "cell_type": "code",
   "execution_count": null,
   "id": "0761e94e-72e2-413a-8e75-c0b4f80e6daa",
   "metadata": {},
   "outputs": [],
   "source": [
    "# 'compute_metrics' -- function to manually compute metrics\n",
    "def compute_metrics(fold, tp, tn, fp, fn):\n",
    "    accuracy = (tp + tn) / (tp + tn + fp + fn)\n",
    "    precision = tp / (tp + fp) if (tp + fp) else 0\n",
    "    recall = tp / (tp + fn) if (tp + fn) else 0\n",
    "    f1 = 2 * precision * recall / (precision + recall) if (precision + recall) else 0\n",
    "    tpr = recall\n",
    "    tnr = tn / (tn + fp) if (tn + fp) else 0\n",
    "    fpr = fp / (fp + tn) if (fp + tn) else 0\n",
    "    fnr = fn / (fn + tp) if (fn + tp) else 0\n",
    "    tss = tpr + tnr - 1\n",
    "    hss = 2 * (tp * tn - fn * fp) / (\n",
    "        (tp + fn) * (fn + tn) + (tp + fp) * (fp + tn)\n",
    "    ) if ((tp + fn)*(fn + tn) + (tp + fp)*(fp + tn)) else 0\n",
    "\n",
    "    return {\n",
    "        \"Fold\": fold, \"Accuracy\": accuracy, \"Precision\": precision, \"Recall\": recall, \"F1\": f1,\n",
    "        \"TP\": tp, \"TN\": tn, \"FP\": fp, \"FN\": fn, \"TSS\": tss, \"HSS\": hss\n",
    "    }"
   ]
  },
  {
   "cell_type": "code",
   "execution_count": null,
   "id": "e3b725de-cc16-41d7-9d92-dd676ae4a2f9",
   "metadata": {},
   "outputs": [],
   "source": [
    "# 'run_random_forest' -- function to run the Random Forest algorithm\n",
    "def run_random_forest():\n",
    "    print(\"Running Random Forest...\")\n",
    "    results = []\n",
    "\n",
    "    for i, (train_idx, test_idx) in enumerate(kf.split(X_df), start=1):\n",
    "        X_train, X_test = X_df.iloc[train_idx], X_df.iloc[test_idx]\n",
    "        y_train, y_test = y_df.iloc[train_idx], y_df.iloc[test_idx]\n",
    "\n",
    "        model = RandomForestClassifier(n_estimators=100, random_state=42)\n",
    "        model.fit(X_train, y_train)\n",
    "        y_pred = model.predict(X_test)\n",
    "\n",
    "        tn, fp, fn, tp = confusion_matrix(y_test, y_pred).ravel()\n",
    "        results.append(compute_metrics(i, tp, tn, fp, fn))\n",
    "\n",
    "    df = pd.DataFrame(results)\n",
    "    df.loc[\"Average\"] = df.mean(numeric_only=True)\n",
    "    print(\"\\nRandom Forest Results:\\n\", df)\n",
    "    df.to_csv(\"rf_results.csv\", index=False)"
   ]
  },
  {
   "cell_type": "code",
   "execution_count": null,
   "id": "34249243-8d1f-4870-8686-84e3bf4b6be5",
   "metadata": {},
   "outputs": [],
   "source": [
    "# 'run_knn' -- function to run the K-Nearest Neighbor algorithm\n",
    "def run_knn():\n",
    "    print(\"\\nRunning K-Nearest Neighbor (KNN)...\")\n",
    "    results = []\n",
    "\n",
    "    for i, (train_idx, test_idx) in enumerate(kf.split(X_df), start=1):\n",
    "        X_train, X_test = X_df.iloc[train_idx], X_df.iloc[test_idx]\n",
    "        y_train, y_test = y_df.iloc[train_idx], y_df.iloc[test_idx]\n",
    "\n",
    "        model = KNeighborsClassifier(n_neighbors=5)\n",
    "        model.fit(X_train, y_train)\n",
    "        y_pred = model.predict(X_test)\n",
    "\n",
    "        tn, fp, fn, tp = confusion_matrix(y_test, y_pred).ravel()\n",
    "        results.append(compute_metrics(i, tp, tn, fp, fn))\n",
    "\n",
    "    df = pd.DataFrame(results)\n",
    "    df.loc[\"Average\"] = df.mean(numeric_only=True)\n",
    "    print(\"\\nKNN Results:\\n\", df)\n",
    "    df.to_csv(\"knn_results.csv\", index=False)"
   ]
  },
  {
   "cell_type": "code",
   "execution_count": null,
   "id": "3e1a3b9a-a693-4043-bb2d-f3446dde68a7",
   "metadata": {},
   "outputs": [],
   "source": [
    "# 'run_lstm' -- function to run the Long Short-Term Memory (LSTM) algorithm\n",
    "def run_lstm():\n",
    "    print(\"\\nRunning Long Short-Term Memory (LSTM)...\")\n",
    "    scaler = StandardScaler()\n",
    "    X_scaled = scaler.fit_transform(X_np)\n",
    "    X_lstm = X_scaled.reshape((X_scaled.shape[0], X_scaled.shape[1], 1))\n",
    "    results = []\n",
    "\n",
    "    for i, (train_idx, test_idx) in enumerate(kf.split(X_lstm), start=1):\n",
    "        X_train, X_test = X_lstm[train_idx], X_lstm[test_idx]\n",
    "        y_train, y_test = y_np[train_idx], y_np[test_idx]\n",
    "\n",
    "        model = Sequential([\n",
    "            Input(shape=(X_train.shape[1], 1)),\n",
    "            LSTM(32),\n",
    "            Dense(1, activation='sigmoid')\n",
    "        ])\n",
    "        model.compile(optimizer=Adam(learning_rate=0.001), loss='binary_crossentropy', metrics=['accuracy'])\n",
    "        model.fit(X_train, y_train, epochs=15, batch_size=16, verbose=0)\n",
    "\n",
    "        y_pred = (model.predict(X_test) > 0.5).astype(\"int32\").flatten()\n",
    "        tn, fp, fn, tp = confusion_matrix(y_test, y_pred).ravel()\n",
    "        results.append(compute_metrics(i, tp, tn, fp, fn))\n",
    "\n",
    "    df = pd.DataFrame(results)\n",
    "    df.loc[\"Average\"] = df.mean(numeric_only=True)\n",
    "    print(\"\\nLSTM Results:\\n\", df)\n",
    "    df.to_csv(\"lstm_results.csv\", index=False)"
   ]
  },
  {
   "cell_type": "code",
   "execution_count": null,
   "id": "0fe615de-2d78-48d6-b57f-ebc5d340dfe0",
   "metadata": {},
   "outputs": [],
   "source": [
    "# 'summarize_results' -- function to print final summary/averages of metrics\n",
    "def summarize_results():\n",
    "    rf = pd.read_csv(\"rf_results.csv\").tail(1).copy()\n",
    "    knn = pd.read_csv(\"knn_results.csv\").tail(1).copy()\n",
    "    lstm = pd.read_csv(\"lstm_results.csv\").tail(1).copy()\n",
    "\n",
    "    rf[\"Model\"] = \"RF\"\n",
    "    knn[\"Model\"] = \"KNN\"\n",
    "    lstm[\"Model\"] = \"LSTM\"\n",
    "\n",
    "    summary = pd.concat([rf, knn, lstm], ignore_index=True)\n",
    "    summary = summary[[\"Model\"] + [col for col in summary.columns if col != \"Model\"]]\n",
    "\n",
    "    print(\"\\nFinal Summary of Metrics:\\n\")\n",
    "    print(summary.round(4))"
   ]
  },
  {
   "cell_type": "code",
   "execution_count": null,
   "id": "4351b947-d0c0-4aae-b7fd-eb2db21fe6ce",
   "metadata": {},
   "outputs": [],
   "source": [
    "run_random_forest()\n",
    "run_knn()\n",
    "run_lstm()\n",
    "summarize_results()"
   ]
  }
 ],
 "metadata": {
  "kernelspec": {
   "display_name": "Python 3 (ipykernel)",
   "language": "python",
   "name": "python3"
  },
  "language_info": {
   "codemirror_mode": {
    "name": "ipython",
    "version": 3
   },
   "file_extension": ".py",
   "mimetype": "text/x-python",
   "name": "python",
   "nbconvert_exporter": "python",
   "pygments_lexer": "ipython3",
   "version": "3.12.4"
  }
 },
 "nbformat": 4,
 "nbformat_minor": 5
}
